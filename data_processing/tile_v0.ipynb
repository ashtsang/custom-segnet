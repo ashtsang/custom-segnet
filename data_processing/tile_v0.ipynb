{
 "cells": [
  {
   "cell_type": "code",
   "execution_count": 1,
   "id": "9131781b",
   "metadata": {},
   "outputs": [
    {
     "data": {
      "text/plain": [
       "'\\nthis script will generate tiles of raw images and corresponding labels\\n- tile size must be divisible by 32 for unet model\\n'"
      ]
     },
     "execution_count": 1,
     "metadata": {},
     "output_type": "execute_result"
    }
   ],
   "source": [
    "'''\n",
    "this script will generate tiles of raw images and corresponding labels\n",
    "- tile size must be divisible by 32 for unet model\n",
    "'''"
   ]
  },
  {
   "cell_type": "code",
   "execution_count": 2,
   "id": "50145303",
   "metadata": {},
   "outputs": [],
   "source": [
    "import numpy as np\n",
    "import matplotlib.pyplot as plt\n",
    "import cv2\n",
    "import os"
   ]
  },
  {
   "cell_type": "code",
   "execution_count": 3,
   "id": "038c5079",
   "metadata": {},
   "outputs": [],
   "source": [
    "## path to directories\n",
    "\n",
    "raw_data_path = r'\\\\babyserverdw3\\PW Cloud Exp Documents\\Lab work documenting\\W-22-09-10 AT Build Competent multi task DL model for tissue labeling\\dataset\\1101\\raw'\n",
    "\n",
    "save_path = r'\\\\babyserverdw3\\PW Cloud Exp Documents\\Lab work documenting\\W-22-09-10 AT Build Competent multi task DL model for tissue labeling\\dataset\\1101\\tiled'"
   ]
  },
  {
   "cell_type": "code",
   "execution_count": 4,
   "id": "3fc17c30",
   "metadata": {},
   "outputs": [],
   "source": [
    "def find_best_tile_size(im_dim0, im_dim1, min_tile_size=480, max_tile_size=1024):\n",
    "    possible_sizes = np.arange(min_tile_size, max_tile_size, 32) # must be divisible by 32 for unet\n",
    "    remainders = [] # number of pixels lost\n",
    "    for i in possible_sizes:\n",
    "        r0 = (im_dim0 % i) * im_dim1\n",
    "        r1 = (im_dim1 % i) * im_dim0\n",
    "        overlap = ((im_dim0 % i) * (im_dim1 % i))\n",
    "        remainders.append(r0 + r1 - overlap)\n",
    "    best_size = possible_sizes[np.argmax(remainders)]\n",
    "    print('best tile size: {}, num pixels lost: {}'.format(best_size, np.max(remainders)))\n",
    "    return best_size"
   ]
  },
  {
   "cell_type": "code",
   "execution_count": 5,
   "id": "c74aef1d",
   "metadata": {},
   "outputs": [
    {
     "name": "stdout",
     "output_type": "stream",
     "text": [
      "best tile size: 736, num pixels lost: 2648064\n"
     ]
    }
   ],
   "source": [
    "tile_size = find_best_tile_size(2048, 2880)\n",
    "\n",
    "tile_folder_name = '{}x{}'.format(tile_size, tile_size)\n",
    "\n",
    "tile_save_path = os.path.join(save_path, tile_folder_name)\n",
    "\n",
    "if not os.path.exists(tile_save_path):\n",
    "    os.mkdir(tile_save_path)"
   ]
  },
  {
   "cell_type": "code",
   "execution_count": 6,
   "id": "dd3ef0ba",
   "metadata": {},
   "outputs": [],
   "source": [
    "def create_tiles(im, lb, tile_size, mode_save_path, im_name):\n",
    "    img = cv2.imread(im)\n",
    "    label = cv2.imread(lb, cv2.IMREAD_UNCHANGED)\n",
    "    h_inds = np.arange(0, img.shape[0]+1, tile_size) # horizontal tile index values ie. [0 480 960 ...]\n",
    "    v_inds = np.arange(0, img.shape[1]+1, tile_size) # vertical tile index values\n",
    "    tile_counter = 0\n",
    "    for i in range(len(h_inds) - 1):\n",
    "        for j in range(len(v_inds) - 1):\n",
    "            img_tile = img[h_inds[i]:h_inds[i+1], v_inds[j]:v_inds[j+1], :]\n",
    "            label_tile = label[h_inds[i]:h_inds[i+1], v_inds[j]:v_inds[j+1]]\n",
    "            fn = im_name + '_0{}'.format(tile_counter)\n",
    "            tile_counter += 1\n",
    "            cv2.imwrite(mode_save_path + '/images/' + fn + '.jpg', img_tile)\n",
    "            cv2.imwrite(mode_save_path + '/labels/'+ fn + '.tif', label_tile)"
   ]
  },
  {
   "cell_type": "code",
   "execution_count": 7,
   "id": "86d27870",
   "metadata": {},
   "outputs": [
    {
     "name": "stdout",
     "output_type": "stream",
     "text": [
      "processing FTE306-20X-normal...\n",
      "processing FTE306-20X-STIC...\n",
      "processing FTE307-20X-normal...\n",
      "processing FTE307-20X-STIC...\n",
      "processing FTE301-20X-normal...\n",
      "processing FTE301-20X-STIC...\n",
      "processing FTE302-20X-normal...\n",
      "processing FTE302-20X-STIC...\n",
      "processing FTE303-20X-normal...\n",
      "processing FTE303-20X-STIC...\n",
      "processing FTE304-20X-normal...\n",
      "processing FTE304-20X-STIC...\n",
      "processing FTE305-20X-normal...\n",
      "processing FTE305-20X-STIC...\n"
     ]
    }
   ],
   "source": [
    "for mode in os.listdir(raw_data_path): # 'train', 'test'\n",
    "    mode_save_path = os.path.join(tile_save_path, mode)\n",
    "    if not os.path.exists(mode_save_path): # make train/, test/ folders\n",
    "        os.mkdir(mode_save_path)      \n",
    "        os.mkdir(mode_save_path + '/images')\n",
    "        os.mkdir(mode_save_path + '/labels')\n",
    "    images_path = os.path.join(raw_data_path, mode + '/images')\n",
    "    labels_path = os.path.join(raw_data_path, mode + '/labels')    \n",
    "    for fn in os.listdir(images_path): # for each image\n",
    "        if fn == 'Thumbs.db':\n",
    "            continue\n",
    "        im_name = fn[:-4]\n",
    "        im = os.path.join(images_path, im_name + '.jpg')\n",
    "        lb = os.path.join(labels_path, im_name + '.tif')\n",
    "        print('processing {}...'.format(im_name))\n",
    "        create_tiles(im, lb, tile_size, mode_save_path, im_name)      "
   ]
  }
 ],
 "metadata": {
  "kernelspec": {
   "display_name": "Python 3 (ipykernel)",
   "language": "python",
   "name": "python3"
  },
  "language_info": {
   "codemirror_mode": {
    "name": "ipython",
    "version": 3
   },
   "file_extension": ".py",
   "mimetype": "text/x-python",
   "name": "python",
   "nbconvert_exporter": "python",
   "pygments_lexer": "ipython3",
   "version": "3.8.13"
  }
 },
 "nbformat": 4,
 "nbformat_minor": 5
}
