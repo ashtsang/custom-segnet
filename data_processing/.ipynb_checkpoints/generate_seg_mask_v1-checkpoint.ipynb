{
 "cells": [
  {
   "cell_type": "code",
   "execution_count": 1,
   "id": "c5c0cf0f",
   "metadata": {},
   "outputs": [
    {
     "data": {
      "text/plain": [
       "'\\nthis script will generate \"ground truth\" segmentation masks for input to custom unet\\n- uses type map output from hovernet\\n- combines with real ground truth annotations from experts\\n- labels unlabelled segmented nuclei as num_classes\\n'"
      ]
     },
     "execution_count": 1,
     "metadata": {},
     "output_type": "execute_result"
    }
   ],
   "source": [
    "'''\n",
    "this script will generate \"ground truth\" segmentation masks for input to custom unet\n",
    "- uses instance map output from hovernet\n",
    "- combines with real ground truth annotations from experts (type map)\n",
    "- labels unlabelled segmented nuclei as num_classes\n",
    "'''"
   ]
  },
  {
   "cell_type": "code",
   "execution_count": 2,
   "id": "cf1a5203",
   "metadata": {},
   "outputs": [],
   "source": [
    "import os\n",
    "import cv2\n",
    "import numpy as np\n",
    "from glob import glob\n",
    "import scipy.io as sio\n",
    "import matplotlib.pyplot as plt"
   ]
  },
  {
   "cell_type": "code",
   "execution_count": 5,
   "id": "9987c11a",
   "metadata": {},
   "outputs": [],
   "source": [
    "## set path to data directories\n",
    "\n",
    "# path to out/eval dir of hovernet\n",
    "pred_dir = r'\\\\babyserverdw3\\PW Cloud Exp Documents\\Lab work documenting\\W-22-09-02 AT Establish HoverNet Training with freezing weights\\out\\Lymphocyte\\0921 data\\full branch\\pannuke_30_WLM0'\n",
    "\n",
    "# path to dataset/labels dir\n",
    "gt_dir = r'\\\\babyserverdw3\\PW Cloud Exp Documents\\Lab work documenting\\W-22-09-02 AT Establish HoverNet Training with freezing weights\\dataset\\Lymphocyte\\0921 dataset\\All\\Raw Labels'\n",
    "\n",
    "# path to save labels\n",
    "save_dir = r'\\\\babyserverdw3\\PW Cloud Exp Documents\\Lab work documenting\\W-22-09-10 AT Build Competent multi task DL model for tissue labeling\\dataset\\1101\\raw\\test\\labels'"
   ]
  },
  {
   "cell_type": "code",
   "execution_count": 7,
   "id": "f253e52d",
   "metadata": {},
   "outputs": [
    {
     "name": "stdout",
     "output_type": "stream",
     "text": [
      "processing FTE306-20X-normal...\n",
      "processing FTE306-20X-STIC...\n",
      "processing FTE307-20X-normal...\n",
      "processing FTE307-20X-STIC...\n"
     ]
    }
   ],
   "source": [
    "## get type maps\n",
    "\n",
    "# loop through files\n",
    "for fn in os.listdir(gt_dir):\n",
    "    im_name = fn[:-4]\n",
    "    print('processing {}...'.format(im_name))\n",
    "    # get pred type map\n",
    "    pred_file = pred_dir + '/eval/{}_eval.mat'.format(im_name)\n",
    "    pred_matfile = sio.loadmat(pred_file)\n",
    "    pred_tm = pred_matfile['type_map']\n",
    "    pred_file2 = pred_dir + '/mat/{}.mat'.format(im_name)\n",
    "    pred_matfile2 = sio.loadmat(pred_file2)\n",
    "    pred_im = pred_matfile2['inst_map']\n",
    "    # get gt type map\n",
    "    gt_file = os.path.join(gt_dir, fn)\n",
    "    gt_matfile = sio.loadmat(gt_file)\n",
    "    gt_tm = gt_matfile['type_map']\n",
    "    \n",
    "    # get number of classes from gt\n",
    "    n_classes = len(np.unique(gt_tm))\n",
    "    \n",
    "    new_tm = np.zeros_like(pred_tm)\n",
    "    \n",
    "    gt_nuclei_inst_list = [0] # contain list of all nuclei with gt labels\n",
    "    \n",
    "    for c in range(1, n_classes):\n",
    "        pred_im_copy = np.copy(pred_im)\n",
    "        inst_of_class = np.unique(pred_im_copy[gt_tm == c]) # get instance numbers of where gt label is of this class\n",
    "        for inst in inst_of_class:\n",
    "            if inst == 0: # lose this gt info - probably some pixel difference in annotations\n",
    "                continue\n",
    "            ind = np.where(inst == pred_im)\n",
    "            new_tm[ind] = c\n",
    "            gt_nuclei_inst_list.append(inst)\n",
    "    \n",
    "    pred_nuclei_inst_list = np.unique(pred_im)\n",
    "    \n",
    "    for i in pred_nuclei_inst_list:\n",
    "        if i not in gt_nuclei_inst_list:\n",
    "            ind = np.where(i == pred_im)\n",
    "            new_tm[ind] = n_classes\n",
    "        \n",
    "    cv2.imwrite(os.path.join(save_dir, im_name + '.png'), new_tm)    \n"
   ]
  }
 ],
 "metadata": {
  "kernelspec": {
   "display_name": "Python 3 (ipykernel)",
   "language": "python",
   "name": "python3"
  },
  "language_info": {
   "codemirror_mode": {
    "name": "ipython",
    "version": 3
   },
   "file_extension": ".py",
   "mimetype": "text/x-python",
   "name": "python",
   "nbconvert_exporter": "python",
   "pygments_lexer": "ipython3",
   "version": "3.8.13"
  }
 },
 "nbformat": 4,
 "nbformat_minor": 5
}
