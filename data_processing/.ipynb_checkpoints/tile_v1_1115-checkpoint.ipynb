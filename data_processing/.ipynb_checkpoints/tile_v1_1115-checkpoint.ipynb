{
 "cells": [
  {
   "cell_type": "code",
   "execution_count": 1,
   "id": "9131781b",
   "metadata": {},
   "outputs": [
    {
     "data": {
      "text/plain": [
       "'\\nthis script will generate tiles of raw images and corresponding labels\\n- tile size must be divisible by 32 for unet model\\n- v0 performs sliding window w/ no overlap so many pixels lost\\n- v1 performs cropping and rotations at random locations\\n'"
      ]
     },
     "execution_count": 1,
     "metadata": {},
     "output_type": "execute_result"
    }
   ],
   "source": [
    "'''\n",
    "this script will generate tiles of raw images and corresponding labels\n",
    "- tile size must be divisible by 32 for unet model\n",
    "- v0 performs sliding window w/ no overlap so many pixels lost\n",
    "- v1 performs cropping and rotations at random locations\n",
    "'''"
   ]
  },
  {
   "cell_type": "code",
   "execution_count": 2,
   "id": "50145303",
   "metadata": {},
   "outputs": [
    {
     "name": "stdout",
     "output_type": "stream",
     "text": [
      "Requirement already satisfied: imutils in c:\\users\\labuser\\.conda\\envs\\custom_segnet\\lib\\site-packages (0.5.4)\n"
     ]
    },
    {
     "name": "stderr",
     "output_type": "stream",
     "text": [
      "WARNING: Ignoring invalid distribution -atplotlib (c:\\users\\labuser\\.conda\\envs\\custom_segnet\\lib\\site-packages)\n",
      "WARNING: Ignoring invalid distribution -atplotlib (c:\\users\\labuser\\.conda\\envs\\custom_segnet\\lib\\site-packages)\n",
      "WARNING: Ignoring invalid distribution -atplotlib (c:\\users\\labuser\\.conda\\envs\\custom_segnet\\lib\\site-packages)\n",
      "WARNING: Ignoring invalid distribution -atplotlib (c:\\users\\labuser\\.conda\\envs\\custom_segnet\\lib\\site-packages)\n",
      "WARNING: Ignoring invalid distribution -atplotlib (c:\\users\\labuser\\.conda\\envs\\custom_segnet\\lib\\site-packages)\n",
      "WARNING: Ignoring invalid distribution -atplotlib (c:\\users\\labuser\\.conda\\envs\\custom_segnet\\lib\\site-packages)\n"
     ]
    }
   ],
   "source": [
    "import numpy as np\n",
    "import matplotlib.pyplot as plt\n",
    "import cv2\n",
    "import os\n",
    "!pip install imutils\n",
    "import imutils"
   ]
  },
  {
   "cell_type": "code",
   "execution_count": 3,
   "id": "038c5079",
   "metadata": {},
   "outputs": [],
   "source": [
    "## path to directories\n",
    "\n",
    "raw_data_path = r'\\\\babyserverdw3\\PW Cloud Exp Documents\\Lab work documenting\\W-22-09-10 AT Build Competent multi task DL model for tissue labeling\\dataset\\1115\\raw'\n",
    "\n",
    "save_path = r'\\\\babyserverdw3\\PW Cloud Exp Documents\\Lab work documenting\\W-22-09-10 AT Build Competent multi task DL model for tissue labeling\\dataset\\1115\\tiled'"
   ]
  },
  {
   "cell_type": "code",
   "execution_count": 4,
   "id": "d3fe8fb8",
   "metadata": {},
   "outputs": [],
   "source": [
    "VERSION = 1.2\n",
    "NUM_TILES = 60 # number of tiles to generate per image"
   ]
  },
  {
   "cell_type": "code",
   "execution_count": 5,
   "id": "3fc17c30",
   "metadata": {},
   "outputs": [],
   "source": [
    "## finds best tile size with minimum pixels lost (more relevant for v0, but keep anyways for v1)\n",
    "\n",
    "def find_best_tile_size(im_dim0, im_dim1, min_tile_size=480, max_tile_size=1024):\n",
    "    possible_sizes = np.arange(min_tile_size, max_tile_size, 32) # must be divisible by 32 for unet\n",
    "    remainders = [] # number of pixels lost\n",
    "    for i in possible_sizes:\n",
    "        r0 = (im_dim0 % i) * im_dim1\n",
    "        r1 = (im_dim1 % i) * im_dim0\n",
    "        overlap = ((im_dim0 % i) * (im_dim1 % i))\n",
    "        remainders.append(r0 + r1 - overlap)\n",
    "    best_size = possible_sizes[np.argmax(remainders)]\n",
    "    print('best tile size: {}, num pixels lost: {}'.format(best_size, np.max(remainders)))\n",
    "    return best_size"
   ]
  },
  {
   "cell_type": "code",
   "execution_count": 6,
   "id": "c74aef1d",
   "metadata": {
    "scrolled": true
   },
   "outputs": [],
   "source": [
    "# tile_size = find_best_tile_size(2048, 2880)\n",
    "tile_size = 736\n",
    "\n",
    "tile_folder_name = '{}x{}_v{}'.format(tile_size, tile_size, VERSION)\n",
    "\n",
    "tile_save_path = os.path.join(save_path, tile_folder_name)\n",
    "\n",
    "if not os.path.exists(tile_save_path):\n",
    "    os.mkdir(tile_save_path)"
   ]
  },
  {
   "cell_type": "code",
   "execution_count": 7,
   "id": "86ea4a11",
   "metadata": {},
   "outputs": [],
   "source": [
    "def rotate(img, label, angle, interpolation=cv2.INTER_NEAREST, border_mode=cv2.BORDER_REFLECT_101):\n",
    "    height, width = img.shape[:2]\n",
    "    matrix = cv2.getRotationMatrix2D((width / 2, height / 2), angle, 1.0)\n",
    "    img_tile = cv2.warpAffine(img, M=matrix, dsize=(width, height), flags=interpolation, borderMode=border_mode)\n",
    "    label_tile = cv2.warpAffine(label, M=matrix, dsize=(width, height), flags=interpolation, borderMode=border_mode)\n",
    "    return img_tile, label_tile"
   ]
  },
  {
   "cell_type": "code",
   "execution_count": 8,
   "id": "83a761ca",
   "metadata": {},
   "outputs": [],
   "source": [
    "def normal_crop(rand_cent, padding, img, label):\n",
    "    # padding is tile_size / 2\n",
    "    lower_bound = np.asarray(rand_cent) - padding\n",
    "    upper_bound = np.asarray(rand_cent) + padding\n",
    "    img_tile = img[int(lower_bound[0]):int(upper_bound[0]), int(lower_bound[1]):int(upper_bound[1]), :]\n",
    "    label_tile = label[int(lower_bound[0]):int(upper_bound[0]), int(lower_bound[1]):int(upper_bound[1])]\n",
    "    return img_tile, label_tile\n",
    "\n",
    "def rotation_crop(angle, img, label):\n",
    "    padding = (tile_size / 2) * np.sqrt(2) # new padding, must be larger than 736x736 for rotation \n",
    "    h_max = img.shape[0] - padding\n",
    "    v_max = img.shape[1] - padding\n",
    "    rand_cent = (np.random.randint(padding, h_max+1), np.random.randint(padding, v_max+1))\n",
    "    # crop large image region for 45 deg rotation\n",
    "    lower_bound = rand_cent - padding\n",
    "    upper_bound = rand_cent + padding\n",
    "    img_tile = img[int(lower_bound[0]):int(upper_bound[0]), int(lower_bound[1]):int(upper_bound[1]), :]\n",
    "    label_tile = label[int(lower_bound[0]):int(upper_bound[0]), int(lower_bound[1]):int(upper_bound[1])]\n",
    "    # rotate image and label\n",
    "    rot_img, rot_label = rotate(img_tile, label_tile, angle=angle)\n",
    "    # get new center point\n",
    "    recalibrated_cent = (int(padding), int(padding))\n",
    "    # perform normal cropping to 736x736\n",
    "    img_tile, label_tile = normal_crop(recalibrated_cent, (tile_size / 2), rot_img, rot_label)\n",
    "    return img_tile, label_tile\n",
    "\n",
    "def perform_crop(rand_cent, padding, img, label): \n",
    "    which_crop = np.random.randint(0, 3) # 0 = normal; 1 = flip; 2 = rotation \n",
    "    # normal crop - no rotation\n",
    "    if which_crop == 0:\n",
    "        img_tile, label_tile = normal_crop(rand_cent, padding, img, label)\n",
    "    # flip\n",
    "    elif which_crop == 1:\n",
    "        img_tile, label_tile = normal_crop(rand_cent, padding, img, label)\n",
    "        angles = np.arange(90, 270+1, 90)  # angles from 90 to 270, flips\n",
    "        angle = angles[np.random.randint(len(angles))] # select a random angle\n",
    "        img_tile, label_tile = imutils.rotate(img_tile, angle=angle), imutils.rotate(label_tile, angle=angle)\n",
    "    # crop w rotation\n",
    "    elif which_crop == 2:\n",
    "#         angles = np.arange(1, 360, 10) # angles from 45 to 315, diagonal rotation\n",
    "        angles = np.arange(45, 315+1, 90) # angles from 45 to 315, diagonal rotation\n",
    "        angle = angles[np.random.randint(len(angles))] # select a random angle\n",
    "        img_tile, label_tile = rotation_crop(angle, img, label)\n",
    "    return img_tile, label_tile"
   ]
  },
  {
   "cell_type": "code",
   "execution_count": 9,
   "id": "dd3ef0ba",
   "metadata": {},
   "outputs": [],
   "source": [
    "def create_tiles(im, lb, tile_size, mode_save_path, im_name):\n",
    "    img = cv2.imread(im)\n",
    "    label = cv2.imread(lb, cv2.IMREAD_UNCHANGED).astype('uint8')\n",
    "    # get center pixel min/max\n",
    "    padding = tile_size / 2 # both indices start at tile_size / 2\n",
    "    h_max = img.shape[0] - padding\n",
    "    v_max = img.shape[1] - padding\n",
    "    tile_counter = 0\n",
    "    for n in range(NUM_TILES):\n",
    "        rand_cent = (np.random.randint(padding, h_max+1), np.random.randint(padding, v_max+1))\n",
    "        img_tile, label_tile = perform_crop(rand_cent, padding, img, label) # crop image based on given center pixel\n",
    "        fn = im_name + '_0{}'.format(tile_counter)\n",
    "        tile_counter += 1\n",
    "        cv2.imwrite(mode_save_path + '/images/' + fn + '.tif', img_tile)\n",
    "        cv2.imwrite(mode_save_path + '/labels/'+ fn + '.tif', label_tile)\n"
   ]
  },
  {
   "cell_type": "code",
   "execution_count": 10,
   "id": "86d27870",
   "metadata": {},
   "outputs": [
    {
     "name": "stdout",
     "output_type": "stream",
     "text": [
      "processing 303_roi01_ROI-STIC...\n",
      "processing 303_roi02_ROI-normal...\n",
      "processing 304_roi01_ROI-STIC...\n",
      "processing 304_roi02_ROI-normal...\n",
      "processing 305_roi01_ROI-STIC...\n",
      "processing 305_roi02_ROI-normal...\n"
     ]
    }
   ],
   "source": [
    "for mode in os.listdir(raw_data_path): # 'train', 'test'\n",
    "    if mode == 'test':\n",
    "        continue\n",
    "    mode_save_path = os.path.join(tile_save_path, mode)\n",
    "    if not os.path.exists(mode_save_path): # make train/, test/ folders\n",
    "        os.mkdir(mode_save_path)      \n",
    "        os.mkdir(mode_save_path + '/images')\n",
    "        os.mkdir(mode_save_path + '/labels')\n",
    "    images_path = os.path.join(raw_data_path, mode + '/images')\n",
    "    labels_path = os.path.join(raw_data_path, mode + '/labels')    \n",
    "    for fn in os.listdir(images_path): # for each image\n",
    "        if fn == 'Thumbs.db':\n",
    "            continue\n",
    "        im_name = fn[:-4]\n",
    "        im = os.path.join(images_path, im_name + '.tif')\n",
    "        lb = os.path.join(labels_path, im_name + '.tif')\n",
    "        print('processing {}...'.format(im_name))\n",
    "        create_tiles(im, lb, tile_size, mode_save_path, im_name)      "
   ]
  }
 ],
 "metadata": {
  "kernelspec": {
   "display_name": "Python 3 (ipykernel)",
   "language": "python",
   "name": "python3"
  },
  "language_info": {
   "codemirror_mode": {
    "name": "ipython",
    "version": 3
   },
   "file_extension": ".py",
   "mimetype": "text/x-python",
   "name": "python",
   "nbconvert_exporter": "python",
   "pygments_lexer": "ipython3",
   "version": "3.8.13"
  }
 },
 "nbformat": 4,
 "nbformat_minor": 5
}
