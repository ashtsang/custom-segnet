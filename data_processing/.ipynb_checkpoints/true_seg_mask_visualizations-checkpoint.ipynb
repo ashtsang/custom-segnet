{
 "cells": [
  {
   "cell_type": "code",
   "execution_count": 1,
   "id": "c5c0cf0f",
   "metadata": {},
   "outputs": [
    {
     "data": {
      "text/plain": [
       "'\\nthis script will generate \"ground truth\" segmentation masks for input to custom unet\\n- uses instance map output from hovernet\\n- combines with real ground truth annotations from experts (type map)\\n- labels unlabelled segmented nuclei as num_classes\\n'"
      ]
     },
     "execution_count": 1,
     "metadata": {},
     "output_type": "execute_result"
    }
   ],
   "source": [
    "'''\n",
    "this script will generate \"ground truth\" segmentation masks for input to custom unet\n",
    "- uses instance map output from hovernet\n",
    "- combines with real ground truth annotations from experts (type map)\n",
    "- labels unlabelled segmented nuclei as num_classes\n",
    "'''"
   ]
  },
  {
   "cell_type": "code",
   "execution_count": 2,
   "id": "cf1a5203",
   "metadata": {},
   "outputs": [
    {
     "name": "stdout",
     "output_type": "stream",
     "text": [
      "Requirement already satisfied: pandas in c:\\users\\labuser\\.conda\\envs\\custom_segnet\\lib\\site-packages (1.5.1)\n",
      "Requirement already satisfied: numpy>=1.20.3 in c:\\users\\labuser\\.conda\\envs\\custom_segnet\\lib\\site-packages (from pandas) (1.23.3)\n",
      "Requirement already satisfied: pytz>=2020.1 in c:\\users\\labuser\\.conda\\envs\\custom_segnet\\lib\\site-packages (from pandas) (2022.6)\n",
      "Requirement already satisfied: python-dateutil>=2.8.1 in c:\\users\\labuser\\.conda\\envs\\custom_segnet\\lib\\site-packages (from pandas) (2.8.2)\n",
      "Requirement already satisfied: six>=1.5 in c:\\users\\labuser\\.conda\\envs\\custom_segnet\\lib\\site-packages (from python-dateutil>=2.8.1->pandas) (1.16.0)\n"
     ]
    }
   ],
   "source": [
    "import os\n",
    "import cv2\n",
    "import numpy as np\n",
    "from glob import glob\n",
    "import scipy.io as sio\n",
    "import matplotlib.pyplot as plt\n",
    "!pip install pandas\n",
    "import pandas as pd"
   ]
  },
  {
   "cell_type": "code",
   "execution_count": 3,
   "id": "9987c11a",
   "metadata": {},
   "outputs": [],
   "source": [
    "## set path to data directories\n",
    "\n",
    "# path to out/eval dir of hovernet\n",
    "pred_dir = r'\\\\babyserverdw3\\PW Cloud Exp Documents\\Lab work documenting\\W-22-09-02 AT Establish HoverNet Training with freezing weights\\out\\Lymphocyte\\0921 data\\full branch\\pannuke_30_WLM0\\mat'\n",
    "\n",
    "# path to raw labels\n",
    "gt_dir = r'\\\\babyserverdw3\\PW Cloud Exp Documents\\Lab work documenting\\W-22-09-02 AT Establish HoverNet Training with freezing weights\\dataset\\Lymphocyte\\0921 dataset\\All\\Raw Labels'\n",
    "\n",
    "# path to save labels\n",
    "save_dir = r'\\\\babyserverdw3\\PW Cloud Exp Documents\\Lab work documenting\\W-22-09-10 AT Build Competent multi task DL model for tissue labeling\\dataset\\1101\\raw'\n",
    "\n",
    "if not os.path.exists(save_dir + '\\train\\labels'):\n",
    "    os.mkdir(os.path.join(save_dir, 'train\\labels'))\n",
    "    os.mkdir(os.path.join(save_dir, 'test\\labels'))"
   ]
  },
  {
   "cell_type": "code",
   "execution_count": 8,
   "id": "f253e52d",
   "metadata": {},
   "outputs": [
    {
     "name": "stdout",
     "output_type": "stream",
     "text": [
      "processing FTE301-20X-normal...\n",
      "processing FTE301-20X-STIC...\n",
      "processing FTE302-20X-normal...\n",
      "processing FTE302-20X-STIC...\n",
      "processing FTE303-20X-normal...\n",
      "processing FTE303-20X-STIC...\n",
      "processing FTE304-20X-normal...\n",
      "processing FTE304-20X-STIC...\n",
      "processing FTE305-20X-normal...\n",
      "processing FTE305-20X-STIC...\n",
      "processing FTE306-20X-normal...\n",
      "processing FTE306-20X-STIC...\n",
      "processing FTE307-20X-normal...\n",
      "processing FTE307-20X-STIC...\n"
     ]
    }
   ],
   "source": [
    "## get type maps\n",
    "\n",
    "NUM_CLASSES = 6 # including background\n",
    "\n",
    "# loop through files\n",
    "for fn in os.listdir(pred_dir):\n",
    "    im_name = fn[:-4]\n",
    "    print('processing {}...'.format(im_name))\n",
    "    pred_file = pred_dir + '\\{}.mat'.format(im_name)\n",
    "    pred_matfile = sio.loadmat(pred_file)\n",
    "    pred_im = pred_matfile['inst_map']\n",
    "    # get gt type map\n",
    "    gt_fn = 'CellCounter_' + im_name + '.csv'\n",
    "    gt_file = os.path.join(gt_dir, gt_fn)\n",
    "    csvfile = pd.read_csv(gt_file)\n",
    "    y_coord = np.array(csvfile['Y'].values)\n",
    "    x_coord = np.array(csvfile['X'].values)\n",
    "    gt_type = np.array(csvfile['Type'].values)\n",
    "    gt_nuclei_inst_list = pred_im[y_coord, x_coord] # instances of predicted nuclei with gt labels\n",
    "    \n",
    "    new_tm = np.zeros_like(pred_im) # create a new empty map\n",
    "        \n",
    "    for i in range(len(gt_nuclei_inst_list)):\n",
    "        if gt_nuclei_inst_list[i] == 0:\n",
    "            continue\n",
    "        ind = np.where(gt_nuclei_inst_list[i] == pred_im)\n",
    "        new_tm[ind] = gt_type[i] # corresponding class\n",
    "    \n",
    "    pred_nuclei_inst_list = np.unique(pred_im)\n",
    "    unlabeled_nuclei = list(set(pred_nuclei_inst_list).difference(set(gt_nuclei_inst_list))) # find unlabeled nuclei   \n",
    "    \n",
    "    if 0 in unlabeled_nuclei: # we want 0 to remain as background\n",
    "        unlabeled_nuclei.remove(0)\n",
    "    \n",
    "    new_tm[np.isin(pred_im, unlabeled_nuclei)] = NUM_CLASSES # set unlabeled nuclei to n_classes\n",
    "        \n",
    "    cv2.imwrite(os.path.join(save_dir, im_name + '.tif'), new_tm)    \n"
   ]
  }
 ],
 "metadata": {
  "kernelspec": {
   "display_name": "Python 3 (ipykernel)",
   "language": "python",
   "name": "python3"
  },
  "language_info": {
   "codemirror_mode": {
    "name": "ipython",
    "version": 3
   },
   "file_extension": ".py",
   "mimetype": "text/x-python",
   "name": "python",
   "nbconvert_exporter": "python",
   "pygments_lexer": "ipython3",
   "version": "3.8.13"
  }
 },
 "nbformat": 4,
 "nbformat_minor": 5
}
