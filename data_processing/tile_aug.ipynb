{
 "cells": [
  {
   "cell_type": "code",
   "execution_count": 21,
   "id": "329d4aa0",
   "metadata": {},
   "outputs": [],
   "source": [
    "import numpy as np\n",
    "import matplotlib.pyplot as plt\n",
    "import cv2\n",
    "import os\n",
    "import math"
   ]
  },
  {
   "cell_type": "code",
   "execution_count": 2,
   "id": "e032fbd7",
   "metadata": {},
   "outputs": [],
   "source": [
    "## global variables\n",
    "\n",
    "VERSION = 1.0\n",
    "NUM_TILES = 400 # number of tiles to generate per image\n",
    "TILE_SIZE = 512"
   ]
  },
  {
   "cell_type": "code",
   "execution_count": 56,
   "id": "f6a5fc0f",
   "metadata": {},
   "outputs": [],
   "source": [
    "## path to directories\n",
    "\n",
    "raw_data_path = r'\\\\babyserverdw5\\Digital pathology image lib\\JHU\\Ie-Ming Shih\\lymphocytes\\230110 dataset\\raw'\n",
    "\n",
    "save_path = r'\\\\babyserverdw5\\Digital pathology image lib\\JHU\\Ie-Ming Shih\\lymphocytes\\230110 dataset'\n",
    "\n",
    "tile_folder_name = '{}x{}_v{}'.format(TILE_SIZE, TILE_SIZE, VERSION)\n",
    "\n",
    "tile_save_path = os.path.join(save_path, tile_folder_name)\n",
    "\n",
    "mode = ['/train', '/val', '/test']\n",
    "\n",
    "if not os.path.exists(tile_save_path):\n",
    "    os.mkdir(tile_save_path)\n",
    "    for m in mode:\n",
    "        os.mkdir(tile_save_path + m)\n",
    "        os.mkdir(tile_save_path + m + '/images')\n",
    "        os.mkdir(tile_save_path + m + '/labels')"
   ]
  },
  {
   "cell_type": "code",
   "execution_count": 13,
   "id": "74680f5d",
   "metadata": {},
   "outputs": [],
   "source": [
    "def normal_crop(rand_cent, padding, img, label):\n",
    "    # padding is tile_size / 2\n",
    "    lower_bound = np.asarray(rand_cent) - padding\n",
    "    upper_bound = np.asarray(rand_cent) + padding\n",
    "    img_tile = img[int(lower_bound[0]):int(upper_bound[0]), int(lower_bound[1]):int(upper_bound[1]), :]\n",
    "    label_tile = label[int(lower_bound[0]):int(upper_bound[0]), int(lower_bound[1]):int(upper_bound[1])]\n",
    "    return img_tile, label_tile\n",
    "\n",
    "def perform_crop(rand_cent, padding, img, label): \n",
    "    img_tile, label_tile = normal_crop(rand_cent, padding, img, label)\n",
    "    rand_fliplr = np.random.uniform()\n",
    "    if rand_fliplr >= 0.50: # horizontal flip\n",
    "        img_tile, label_tile = np.fliplr(img_tile), np.fliplr(label_tile)\n",
    "    \n",
    "    rand_rot90 = np.random.randint(1,4) # 90 degree rotation\n",
    "    img_tile, label_tile = np.rot90(img_tile, k=rand_rot90), np.rot90(label_tile, k=rand_rot90)\n",
    "    \n",
    "    return img_tile, label_tile"
   ]
  },
  {
   "cell_type": "code",
   "execution_count": 58,
   "id": "033e4021",
   "metadata": {},
   "outputs": [],
   "source": [
    "def create_tiles(im, lb, im_name, m):\n",
    "    img = cv2.imread(im)\n",
    "    label = cv2.imread(lb, cv2.IMREAD_UNCHANGED).astype('uint8')\n",
    "    # get center pixel min/max\n",
    "    padding = TILE_SIZE / 2 # both indices start at tile_size / 2\n",
    "    h_max = img.shape[0] - padding\n",
    "    v_max = img.shape[1] - padding\n",
    "    tile_counter = 0\n",
    "    for n in range(NUM_TILES):\n",
    "        rand_cent = (np.random.randint(padding, h_max+1), np.random.randint(padding, v_max+1))\n",
    "        img_tile, label_tile = perform_crop(rand_cent, padding, img, label) # crop image based on given center pixel\n",
    "        fn = im_name + '_0{}'.format(tile_counter)\n",
    "        tile_counter += 1\n",
    "        cv2.imwrite(tile_save_path + m + '/images/' + fn + '.tif', img_tile)\n",
    "        cv2.imwrite(tile_save_path + m + '/labels/'+ fn + '.tif', label_tile)"
   ]
  },
  {
   "cell_type": "code",
   "execution_count": 51,
   "id": "6896457b",
   "metadata": {},
   "outputs": [
    {
     "name": "stdout",
     "output_type": "stream",
     "text": [
      "[ 1  6  8  9 14  4  2 13 10] [ 7 11  3] [ 0  5 12]\n"
     ]
    }
   ],
   "source": [
    "## create train/val/test split\n",
    "np.random.seed(0)\n",
    "images_path = os.path.join(raw_data_path, 'images')\n",
    "labels_path = os.path.join(raw_data_path, 'labels') \n",
    "img_list = np.array(os.listdir(images_path))\n",
    "tot_imgs = len(img_list)\n",
    "rand_inds = np.random.permutation(tot_imgs)\n",
    "train_pt, val_pt, test_pt = math.ceil(0.6 * tot_imgs), math.ceil(0.2 * tot_imgs), None\n",
    "train_idx, val_idx, test_idx = rand_inds[:train_pt], rand_inds[train_pt:train_pt+val_pt], rand_inds[train_pt+val_pt:]\n",
    "train_im, val_im, test_im = img_list[train_idx], img_list[val_idx], img_list[test_idx] \n",
    "print(train_idx, val_idx, test_idx)"
   ]
  },
  {
   "cell_type": "code",
   "execution_count": 61,
   "id": "03ecc40c",
   "metadata": {},
   "outputs": [
    {
     "name": "stdout",
     "output_type": "stream",
     "text": [
      "/test\n",
      "processing 303_roi01_ROI-STIC...\n"
     ]
    },
    {
     "ename": "KeyboardInterrupt",
     "evalue": "",
     "output_type": "error",
     "traceback": [
      "\u001b[1;31m---------------------------------------------------------------------------\u001b[0m",
      "\u001b[1;31mKeyboardInterrupt\u001b[0m                         Traceback (most recent call last)",
      "Cell \u001b[1;32mIn [61], line 16\u001b[0m\n\u001b[0;32m     14\u001b[0m     lb \u001b[38;5;241m=\u001b[39m os\u001b[38;5;241m.\u001b[39mpath\u001b[38;5;241m.\u001b[39mjoin(labels_path, im_name \u001b[38;5;241m+\u001b[39m \u001b[38;5;124m'\u001b[39m\u001b[38;5;124m.tif\u001b[39m\u001b[38;5;124m'\u001b[39m)\n\u001b[0;32m     15\u001b[0m     \u001b[38;5;28mprint\u001b[39m(\u001b[38;5;124m'\u001b[39m\u001b[38;5;124mprocessing \u001b[39m\u001b[38;5;132;01m{}\u001b[39;00m\u001b[38;5;124m...\u001b[39m\u001b[38;5;124m'\u001b[39m\u001b[38;5;241m.\u001b[39mformat(im_name))\n\u001b[1;32m---> 16\u001b[0m     \u001b[43mcreate_tiles\u001b[49m\u001b[43m(\u001b[49m\u001b[43mim\u001b[49m\u001b[43m,\u001b[49m\u001b[43m \u001b[49m\u001b[43mlb\u001b[49m\u001b[43m,\u001b[49m\u001b[43m \u001b[49m\u001b[43mim_name\u001b[49m\u001b[43m,\u001b[49m\u001b[43m \u001b[49m\u001b[43mm\u001b[49m\u001b[43m)\u001b[49m \n\u001b[0;32m     17\u001b[0m \u001b[38;5;28;01massert\u001b[39;00m \u001b[38;5;28;01mFalse\u001b[39;00m\n",
      "Cell \u001b[1;32mIn [58], line 2\u001b[0m, in \u001b[0;36mcreate_tiles\u001b[1;34m(im, lb, im_name, m)\u001b[0m\n\u001b[0;32m      1\u001b[0m \u001b[38;5;28;01mdef\u001b[39;00m \u001b[38;5;21mcreate_tiles\u001b[39m(im, lb, im_name, m):\n\u001b[1;32m----> 2\u001b[0m     img \u001b[38;5;241m=\u001b[39m \u001b[43mcv2\u001b[49m\u001b[38;5;241;43m.\u001b[39;49m\u001b[43mimread\u001b[49m\u001b[43m(\u001b[49m\u001b[43mim\u001b[49m\u001b[43m)\u001b[49m\n\u001b[0;32m      3\u001b[0m     label \u001b[38;5;241m=\u001b[39m cv2\u001b[38;5;241m.\u001b[39mimread(lb, cv2\u001b[38;5;241m.\u001b[39mIMREAD_UNCHANGED)\u001b[38;5;241m.\u001b[39mastype(\u001b[38;5;124m'\u001b[39m\u001b[38;5;124muint8\u001b[39m\u001b[38;5;124m'\u001b[39m)\n\u001b[0;32m      4\u001b[0m     \u001b[38;5;66;03m# get center pixel min/max\u001b[39;00m\n",
      "\u001b[1;31mKeyboardInterrupt\u001b[0m: "
     ]
    }
   ],
   "source": [
    "for m in mode: # for each image\n",
    "    if m == '/train':\n",
    "        im_list = train_im\n",
    "    elif m == '/val':\n",
    "        im_list = val_im\n",
    "    else:\n",
    "        continue\n",
    "    for fn in im_list:\n",
    "        im_name = fn[:-4]\n",
    "        im = os.path.join(images_path, im_name + '.tif')\n",
    "        lb = os.path.join(labels_path, im_name + '.tif')\n",
    "        print('processing {}...'.format(im_name))\n",
    "        create_tiles(im, lb, im_name, m) "
   ]
  },
  {
   "cell_type": "code",
   "execution_count": 62,
   "id": "dcc4fafa",
   "metadata": {},
   "outputs": [
    {
     "name": "stdout",
     "output_type": "stream",
     "text": [
      "['303_roi02_ROI-normal.tif' 'FTE363_roi01_ROI-STIC.tif'\n",
      " 'FTE363_roi03_ROI-normal.tif' 'FTE372 5G_roi01_ROI-STIC.tif'\n",
      " 'FTE379_roi03_ROI-carcinoma.tif' '305_roi01_ROI-STIC.tif'\n",
      " '304_roi01_ROI-STIC.tif' 'FTE379_roi02_ROI-normal.tif'\n",
      " 'FTE372 5G_roi02_ROI-carcinoma.tif'] ['FTE363_roi02_ROI-carcinoma.tif' 'FTE372 5G_roi03_ROI-normal.tif'\n",
      " '304_roi02_ROI-normal.tif'] ['303_roi01_ROI-STIC.tif' '305_roi02_ROI-normal.tif'\n",
      " 'FTE379_roi01_ROI-STIC.tif']\n"
     ]
    }
   ],
   "source": [
    "print(train_im, val_im, test_im)"
   ]
  },
  {
   "cell_type": "code",
   "execution_count": null,
   "id": "d13f402d",
   "metadata": {},
   "outputs": [],
   "source": []
  }
 ],
 "metadata": {
  "kernelspec": {
   "display_name": "Python 3 (ipykernel)",
   "language": "python",
   "name": "python3"
  },
  "language_info": {
   "codemirror_mode": {
    "name": "ipython",
    "version": 3
   },
   "file_extension": ".py",
   "mimetype": "text/x-python",
   "name": "python",
   "nbconvert_exporter": "python",
   "pygments_lexer": "ipython3",
   "version": "3.8.13"
  }
 },
 "nbformat": 4,
 "nbformat_minor": 5
}
