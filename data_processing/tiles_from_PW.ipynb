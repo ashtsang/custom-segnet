{
 "cells": [
  {
   "cell_type": "code",
   "execution_count": 1,
   "id": "951dd508",
   "metadata": {},
   "outputs": [],
   "source": [
    "import numpy as np\n",
    "import matplotlib.pyplot as plt\n",
    "import cv2\n",
    "import os"
   ]
  },
  {
   "cell_type": "code",
   "execution_count": 2,
   "id": "3a5602c3",
   "metadata": {},
   "outputs": [],
   "source": [
    "PW_tile_im = r'\\\\babyserverdw5\\Digital pathology image lib\\JHU\\Ie-Ming Shih\\lymphocytes\\221114 Crop IM have annotation\\Im for train set1\\im'\n",
    "PW_tile_lbl = r'\\\\babyserverdw5\\Digital pathology image lib\\JHU\\Ie-Ming Shih\\lymphocytes\\221114 Crop IM have annotation\\Im for train set1\\im_lbl'\n",
    "\n",
    "tile_save_dir_im = r'\\\\babyserverdw3\\PW Cloud Exp Documents\\Lab work documenting\\W-22-09-10 AT Build Competent multi task DL model for tissue labeling\\dataset\\1115\\aug\\aug_992x992_v00\\train\\images'\n",
    "tile_save_dir_lbl = r'\\\\babyserverdw3\\PW Cloud Exp Documents\\Lab work documenting\\W-22-09-10 AT Build Competent multi task DL model for tissue labeling\\dataset\\1115\\aug\\aug_992x992_v00\\train\\labels'"
   ]
  },
  {
   "cell_type": "code",
   "execution_count": 5,
   "id": "ce880fea",
   "metadata": {},
   "outputs": [],
   "source": [
    "for im_name in os.listdir(PW_tile_im):\n",
    "    im = cv2.imread(os.path.join(PW_tile_im, im_name))\n",
    "    lbl_name = im_name[:-16] + im_name[-15:]\n",
    "    lbl = cv2.imread(os.path.join(PW_tile_lbl, lbl_name), cv2.IMREAD_UNCHANGED).astype('uint8')\n",
    "    center = im.shape\n",
    "    w, h = 992, 992\n",
    "    x = center[1]/2 - w/2\n",
    "    y = center[0]/2 - h/2\n",
    "\n",
    "    crop_im = im[int(y):int(y+h), int(x):int(x+w)]\n",
    "    crop_lbl = lbl[int(y):int(y+h), int(x):int(x+w)]\n",
    "    \n",
    "    cv2.imwrite(tile_save_dir_im + '/' + im_name, crop_im)\n",
    "    cv2.imwrite(tile_save_dir_lbl + '/' + im_name, crop_lbl)\n",
    "    "
   ]
  }
 ],
 "metadata": {
  "kernelspec": {
   "display_name": "Python 3 (ipykernel)",
   "language": "python",
   "name": "python3"
  },
  "language_info": {
   "codemirror_mode": {
    "name": "ipython",
    "version": 3
   },
   "file_extension": ".py",
   "mimetype": "text/x-python",
   "name": "python",
   "nbconvert_exporter": "python",
   "pygments_lexer": "ipython3",
   "version": "3.8.13"
  }
 },
 "nbformat": 4,
 "nbformat_minor": 5
}
