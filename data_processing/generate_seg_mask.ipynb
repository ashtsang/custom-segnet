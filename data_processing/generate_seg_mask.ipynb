{
 "cells": [
  {
   "cell_type": "code",
   "execution_count": 1,
   "id": "c5c0cf0f",
   "metadata": {},
   "outputs": [
    {
     "data": {
      "text/plain": [
       "'\\nthis script will generate \"ground truth\" segmentation masks for input to custom unet\\n- uses type map output from hovernet\\n- combines with real ground truth annotations from experts\\n- labels unlabelled segmented nuclei as num_classes\\n'"
      ]
     },
     "execution_count": 1,
     "metadata": {},
     "output_type": "execute_result"
    }
   ],
   "source": [
    "'''\n",
    "this script will generate \"ground truth\" segmentation masks for input to custom unet\n",
    "- uses type map output from hovernet\n",
    "- combines with real ground truth annotations from experts\n",
    "- labels unlabelled segmented nuclei as num_classes\n",
    "'''"
   ]
  },
  {
   "cell_type": "code",
   "execution_count": 2,
   "id": "cf1a5203",
   "metadata": {},
   "outputs": [],
   "source": [
    "import os\n",
    "import cv2\n",
    "import numpy as np\n",
    "from glob import glob\n",
    "import scipy.io as sio\n",
    "import matplotlib.pyplot as plt"
   ]
  },
  {
   "cell_type": "code",
   "execution_count": 3,
   "id": "9987c11a",
   "metadata": {},
   "outputs": [],
   "source": [
    "## set path to data directories\n",
    "\n",
    "# path to out/eval dir of hovernet\n",
    "pred_dir = r'\\\\babyserverdw3\\PW Cloud Exp Documents\\Lab work documenting\\W-22-09-02 AT Establish HoverNet Training with freezing weights\\out\\Lymphocyte\\0921 data\\full branch\\pannuke_30_WLM0\\eval'\n",
    "\n",
    "# path to dataset/labels dir\n",
    "gt_dir = r'\\\\babyserverdw3\\PW Cloud Exp Documents\\Lab work documenting\\W-22-09-02 AT Establish HoverNet Training with freezing weights\\dataset\\Lymphocyte\\0921 dataset\\Split_0\\Train\\Labels'\n",
    "\n",
    "# path to save labels\n",
    "save_dir = r'\\\\babyserverdw3\\PW Cloud Exp Documents\\Lab work documenting\\W-22-09-10 AT Build Competent multi task DL model for tissue labeling\\dataset\\1101\\raw\\train\\labels'"
   ]
  },
  {
   "cell_type": "code",
   "execution_count": 9,
   "id": "f253e52d",
   "metadata": {},
   "outputs": [
    {
     "name": "stdout",
     "output_type": "stream",
     "text": [
      "processing FTE301-20X-normal...\n",
      "(2048, 2880)\n"
     ]
    },
    {
     "ename": "error",
     "evalue": "OpenCV(4.6.0) :-1: error: (-5:Bad argument) in function 'drawContours'\n> Overload resolution failed:\n>  - Layout of the output array image is incompatible with cv::Mat\n>  - Expected Ptr<cv::UMat> for argument 'image'\n",
     "output_type": "error",
     "traceback": [
      "\u001b[1;31m---------------------------------------------------------------------------\u001b[0m",
      "\u001b[1;31merror\u001b[0m                                     Traceback (most recent call last)",
      "Cell \u001b[1;32mIn [9], line 23\u001b[0m\n\u001b[0;32m     21\u001b[0m \u001b[38;5;28mprint\u001b[39m(cimg\u001b[38;5;241m.\u001b[39mshape)\n\u001b[0;32m     22\u001b[0m \u001b[38;5;66;03m# fill contour one at a time\u001b[39;00m\n\u001b[1;32m---> 23\u001b[0m \u001b[43mcv2\u001b[49m\u001b[38;5;241;43m.\u001b[39;49m\u001b[43mdrawContours\u001b[49m\u001b[43m(\u001b[49m\u001b[43mcimg\u001b[49m\u001b[43m,\u001b[49m\u001b[43m \u001b[49m\u001b[43mcontours\u001b[49m\u001b[43m,\u001b[49m\u001b[43m \u001b[49m\u001b[43mi\u001b[49m\u001b[43m,\u001b[49m\u001b[43m \u001b[49m\u001b[43mcolor\u001b[49m\u001b[38;5;241;43m=\u001b[39;49m\u001b[38;5;241;43m255\u001b[39;49m\u001b[43m,\u001b[49m\u001b[43m \u001b[49m\u001b[43mthickness\u001b[49m\u001b[38;5;241;43m=\u001b[39;49m\u001b[38;5;241;43m-\u001b[39;49m\u001b[38;5;241;43m1\u001b[39;49m\u001b[43m)\u001b[49m\n\u001b[0;32m     25\u001b[0m pts \u001b[38;5;241m=\u001b[39m np\u001b[38;5;241m.\u001b[39mwhere(cimg \u001b[38;5;241m==\u001b[39m \u001b[38;5;241m255\u001b[39m)\n\u001b[0;32m     27\u001b[0m \u001b[38;5;66;03m# the pixel-wise class types within the contour\u001b[39;00m\n",
      "\u001b[1;31merror\u001b[0m: OpenCV(4.6.0) :-1: error: (-5:Bad argument) in function 'drawContours'\n> Overload resolution failed:\n>  - Layout of the output array image is incompatible with cv::Mat\n>  - Expected Ptr<cv::UMat> for argument 'image'\n"
     ]
    }
   ],
   "source": [
    "## get type maps\n",
    "\n",
    "# loop through files\n",
    "for fn in os.listdir(gt_dir):\n",
    "    im_name = fn[:-4]\n",
    "    print('processing {}...'.format(im_name))\n",
    "    # get pred type map\n",
    "    pred_file = os.path.join(pred_dir, im_name + '_eval.mat')\n",
    "    pred_matfile = sio.loadmat(pred_file)\n",
    "    pred_tm = pred_matfile['type_map']\n",
    "    # get gt type map\n",
    "    gt_file = os.path.join(gt_dir, fn)\n",
    "    gt_matfile = sio.loadmat(gt_file)\n",
    "    gt_tm = gt_matfile['type_map']\n",
    "    \n",
    "    ## create new type map with all segments - if gt, gt label; if no gt, n_classes + 1 label\n",
    "\n",
    "    # copy type maps\n",
    "    new_tm = np.copy(gt_tm)\n",
    "    gt_tm_copy = np.copy(gt_tm)\n",
    "    # get number of classes from gt\n",
    "    n_classes = len(np.unique(gt_tm))\n",
    "    # label all segmented regions with n_classes\n",
    "    new_tm[pred_tm > 0] = n_classes \n",
    "    # label gt segmented regions with class label\n",
    "    new_tm[gt_tm > 0] = gt_tm[gt_tm > 0]\n",
    "    cv2.imwrite(os.path.join(save_dir, im_name + '.png'), new_tm)"
   ]
  }
 ],
 "metadata": {
  "kernelspec": {
   "display_name": "Python 3 (ipykernel)",
   "language": "python",
   "name": "python3"
  },
  "language_info": {
   "codemirror_mode": {
    "name": "ipython",
    "version": 3
   },
   "file_extension": ".py",
   "mimetype": "text/x-python",
   "name": "python",
   "nbconvert_exporter": "python",
   "pygments_lexer": "ipython3",
   "version": "3.8.13"
  }
 },
 "nbformat": 4,
 "nbformat_minor": 5
}
